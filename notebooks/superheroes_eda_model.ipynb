{
 "cells": [
  {
   "cell_type": "markdown",
   "id": "72907970",
   "metadata": {},
   "source": [
    "### 1. Veri Setinin Kısa Hikayesi\n",
    "\n",
    "Bu veri seti, Marvel ve DC evrenlerindeki süper kahramanların fiziksel ve zihinsel özelliklerini bir araya getirir.\n",
    "Kahramanların cinsiyeti, ırkı, güç, hız, zeka ve tarafı (iyi, kötü, tarafsız) gibi bilgileri içerir.\n",
    "Amaç, kahramanların özellikleri ile onların karakter eğilimleri arasındaki ilişkileri inceleyerek veri bilimiyle çizgi roman dünyasına analitik bir bakış sunmaktır.\n",
    "\n",
    "Veri Kaynağı: Kaggle – Superheroes Dataset"
   ]
  },
  {
   "cell_type": "code",
   "execution_count": 1,
   "id": "0e28e08c",
   "metadata": {},
   "outputs": [],
   "source": [
    "import pandas as pd\n",
    "import seaborn as sns\n",
    "import numpy as np\n",
    "import matplotlib.pyplot as plt\n"
   ]
  },
  {
   "cell_type": "code",
   "execution_count": 2,
   "id": "bd6dd62c",
   "metadata": {},
   "outputs": [],
   "source": [
    "heroes = pd.read_csv(\"/Users/reyhansenayilmaz/Documents/superheroes_analysis.csv/data/heroes_information.csv\")\n"
   ]
  },
  {
   "cell_type": "code",
   "execution_count": 3,
   "id": "12865d5d",
   "metadata": {},
   "outputs": [
    {
     "name": "stdout",
     "output_type": "stream",
     "text": [
      "<class 'pandas.core.frame.DataFrame'>\n",
      "RangeIndex: 734 entries, 0 to 733\n",
      "Data columns (total 10 columns):\n",
      " #   Column      Non-Null Count  Dtype  \n",
      "---  ------      --------------  -----  \n",
      " 0   name        734 non-null    object \n",
      " 1   Gender      734 non-null    object \n",
      " 2   Eye color   734 non-null    object \n",
      " 3   Race        734 non-null    object \n",
      " 4   Hair color  734 non-null    object \n",
      " 5   Height      734 non-null    float64\n",
      " 6   Publisher   719 non-null    object \n",
      " 7   Skin color  734 non-null    object \n",
      " 8   Alignment   734 non-null    object \n",
      " 9   Weight      732 non-null    float64\n",
      "dtypes: float64(2), object(8)\n",
      "memory usage: 57.5+ KB\n"
     ]
    }
   ],
   "source": [
    "heroes= heroes.drop('Unnamed: 0', axis=1)\n",
    "heroes.info()"
   ]
  },
  {
   "cell_type": "code",
   "execution_count": 4,
   "id": "3d917f11",
   "metadata": {},
   "outputs": [
    {
     "data": {
      "text/plain": [
       "name           object\n",
       "Gender         object\n",
       "Eye color      object\n",
       "Race           object\n",
       "Hair color     object\n",
       "Height        float64\n",
       "Publisher      object\n",
       "Skin color     object\n",
       "Alignment      object\n",
       "Weight        float64\n",
       "dtype: object"
      ]
     },
     "execution_count": 4,
     "metadata": {},
     "output_type": "execute_result"
    }
   ],
   "source": [
    "heroes.dtypes"
   ]
  },
  {
   "cell_type": "code",
   "execution_count": 5,
   "id": "7dadfc12",
   "metadata": {},
   "outputs": [
    {
     "name": "stdout",
     "output_type": "stream",
     "text": [
      "Dataset Shape: (734, 10)\n",
      "\n",
      "Columns: ['name', 'Gender', 'Eye color', 'Race', 'Hair color', 'Height', 'Publisher', 'Skin color', 'Alignment', 'Weight']\n",
      "name           0\n",
      "Gender         0\n",
      "Eye color      0\n",
      "Race           0\n",
      "Hair color     0\n",
      "Height         0\n",
      "Publisher     15\n",
      "Skin color     0\n",
      "Alignment      0\n",
      "Weight         2\n",
      "dtype: int64\n"
     ]
    }
   ],
   "source": [
    "print(\"Dataset Shape:\", heroes.shape)\n",
    "print(\"\\nColumns:\", list(heroes.columns))\n",
    "print(heroes.isnull().sum())"
   ]
  },
  {
   "cell_type": "code",
   "execution_count": 6,
   "id": "0b35c730",
   "metadata": {},
   "outputs": [
    {
     "data": {
      "text/html": [
       "<div>\n",
       "<style scoped>\n",
       "    .dataframe tbody tr th:only-of-type {\n",
       "        vertical-align: middle;\n",
       "    }\n",
       "\n",
       "    .dataframe tbody tr th {\n",
       "        vertical-align: top;\n",
       "    }\n",
       "\n",
       "    .dataframe thead th {\n",
       "        text-align: right;\n",
       "    }\n",
       "</style>\n",
       "<table border=\"1\" class=\"dataframe\">\n",
       "  <thead>\n",
       "    <tr style=\"text-align: right;\">\n",
       "      <th></th>\n",
       "      <th>name</th>\n",
       "      <th>Gender</th>\n",
       "      <th>Eye color</th>\n",
       "      <th>Race</th>\n",
       "      <th>Hair color</th>\n",
       "      <th>Height</th>\n",
       "      <th>Publisher</th>\n",
       "      <th>Skin color</th>\n",
       "      <th>Alignment</th>\n",
       "      <th>Weight</th>\n",
       "    </tr>\n",
       "  </thead>\n",
       "  <tbody>\n",
       "    <tr>\n",
       "      <th>0</th>\n",
       "      <td>A-Bomb</td>\n",
       "      <td>Male</td>\n",
       "      <td>yellow</td>\n",
       "      <td>Human</td>\n",
       "      <td>No Hair</td>\n",
       "      <td>203.0</td>\n",
       "      <td>Marvel Comics</td>\n",
       "      <td>Unknown</td>\n",
       "      <td>good</td>\n",
       "      <td>441.0</td>\n",
       "    </tr>\n",
       "    <tr>\n",
       "      <th>1</th>\n",
       "      <td>Abe Sapien</td>\n",
       "      <td>Male</td>\n",
       "      <td>blue</td>\n",
       "      <td>Icthyo Sapien</td>\n",
       "      <td>No Hair</td>\n",
       "      <td>191.0</td>\n",
       "      <td>Dark Horse Comics</td>\n",
       "      <td>blue</td>\n",
       "      <td>good</td>\n",
       "      <td>65.0</td>\n",
       "    </tr>\n",
       "    <tr>\n",
       "      <th>2</th>\n",
       "      <td>Abin Sur</td>\n",
       "      <td>Male</td>\n",
       "      <td>blue</td>\n",
       "      <td>Ungaran</td>\n",
       "      <td>No Hair</td>\n",
       "      <td>185.0</td>\n",
       "      <td>DC Comics</td>\n",
       "      <td>red</td>\n",
       "      <td>good</td>\n",
       "      <td>90.0</td>\n",
       "    </tr>\n",
       "    <tr>\n",
       "      <th>3</th>\n",
       "      <td>Abomination</td>\n",
       "      <td>Male</td>\n",
       "      <td>green</td>\n",
       "      <td>Human / Radiation</td>\n",
       "      <td>No Hair</td>\n",
       "      <td>203.0</td>\n",
       "      <td>Marvel Comics</td>\n",
       "      <td>Unknown</td>\n",
       "      <td>bad</td>\n",
       "      <td>441.0</td>\n",
       "    </tr>\n",
       "    <tr>\n",
       "      <th>4</th>\n",
       "      <td>Abraxas</td>\n",
       "      <td>Male</td>\n",
       "      <td>blue</td>\n",
       "      <td>Cosmic Entity</td>\n",
       "      <td>Black</td>\n",
       "      <td>NaN</td>\n",
       "      <td>Marvel Comics</td>\n",
       "      <td>Unknown</td>\n",
       "      <td>bad</td>\n",
       "      <td>NaN</td>\n",
       "    </tr>\n",
       "  </tbody>\n",
       "</table>\n",
       "</div>"
      ],
      "text/plain": [
       "          name Gender Eye color               Race Hair color  Height  \\\n",
       "0       A-Bomb   Male    yellow              Human    No Hair   203.0   \n",
       "1   Abe Sapien   Male      blue      Icthyo Sapien    No Hair   191.0   \n",
       "2     Abin Sur   Male      blue            Ungaran    No Hair   185.0   \n",
       "3  Abomination   Male     green  Human / Radiation    No Hair   203.0   \n",
       "4      Abraxas   Male      blue      Cosmic Entity      Black     NaN   \n",
       "\n",
       "           Publisher Skin color Alignment  Weight  \n",
       "0      Marvel Comics    Unknown      good   441.0  \n",
       "1  Dark Horse Comics       blue      good    65.0  \n",
       "2          DC Comics        red      good    90.0  \n",
       "3      Marvel Comics    Unknown       bad   441.0  \n",
       "4      Marvel Comics    Unknown       bad     NaN  "
      ]
     },
     "execution_count": 6,
     "metadata": {},
     "output_type": "execute_result"
    }
   ],
   "source": [
    "heroes.replace(-99.0, np.nan, inplace=True)\n",
    "heroes.replace('-', 'Unknown' , inplace=True)\n",
    "heroes.head()"
   ]
  },
  {
   "cell_type": "markdown",
   "id": "6b55fde4",
   "metadata": {},
   "source": [
    "### 2. Temel Veri Analizi (EDA)"
   ]
  },
  {
   "cell_type": "code",
   "execution_count": 7,
   "id": "9809fa35",
   "metadata": {},
   "outputs": [
    {
     "data": {
      "text/html": [
       "<div>\n",
       "<style scoped>\n",
       "    .dataframe tbody tr th:only-of-type {\n",
       "        vertical-align: middle;\n",
       "    }\n",
       "\n",
       "    .dataframe tbody tr th {\n",
       "        vertical-align: top;\n",
       "    }\n",
       "\n",
       "    .dataframe thead th {\n",
       "        text-align: right;\n",
       "    }\n",
       "</style>\n",
       "<table border=\"1\" class=\"dataframe\">\n",
       "  <thead>\n",
       "    <tr style=\"text-align: right;\">\n",
       "      <th></th>\n",
       "      <th>Height</th>\n",
       "      <th>Weight</th>\n",
       "    </tr>\n",
       "  </thead>\n",
       "  <tbody>\n",
       "    <tr>\n",
       "      <th>count</th>\n",
       "      <td>517.000000</td>\n",
       "      <td>495.000000</td>\n",
       "    </tr>\n",
       "    <tr>\n",
       "      <th>mean</th>\n",
       "      <td>186.726306</td>\n",
       "      <td>112.252525</td>\n",
       "    </tr>\n",
       "    <tr>\n",
       "      <th>std</th>\n",
       "      <td>59.251895</td>\n",
       "      <td>104.151142</td>\n",
       "    </tr>\n",
       "    <tr>\n",
       "      <th>min</th>\n",
       "      <td>15.200000</td>\n",
       "      <td>2.000000</td>\n",
       "    </tr>\n",
       "    <tr>\n",
       "      <th>25%</th>\n",
       "      <td>173.000000</td>\n",
       "      <td>61.000000</td>\n",
       "    </tr>\n",
       "    <tr>\n",
       "      <th>50%</th>\n",
       "      <td>183.000000</td>\n",
       "      <td>81.000000</td>\n",
       "    </tr>\n",
       "    <tr>\n",
       "      <th>75%</th>\n",
       "      <td>191.000000</td>\n",
       "      <td>108.000000</td>\n",
       "    </tr>\n",
       "    <tr>\n",
       "      <th>max</th>\n",
       "      <td>975.000000</td>\n",
       "      <td>900.000000</td>\n",
       "    </tr>\n",
       "  </tbody>\n",
       "</table>\n",
       "</div>"
      ],
      "text/plain": [
       "           Height      Weight\n",
       "count  517.000000  495.000000\n",
       "mean   186.726306  112.252525\n",
       "std     59.251895  104.151142\n",
       "min     15.200000    2.000000\n",
       "25%    173.000000   61.000000\n",
       "50%    183.000000   81.000000\n",
       "75%    191.000000  108.000000\n",
       "max    975.000000  900.000000"
      ]
     },
     "execution_count": 7,
     "metadata": {},
     "output_type": "execute_result"
    }
   ],
   "source": [
    "heroes.describe()"
   ]
  },
  {
   "cell_type": "code",
   "execution_count": 8,
   "id": "3421be9a",
   "metadata": {},
   "outputs": [
    {
     "data": {
      "text/plain": [
       "Index(['name', 'Gender', 'Eye color', 'Race', 'Hair color', 'Height',\n",
       "       'Publisher', 'Skin color', 'Alignment', 'Weight'],\n",
       "      dtype='object')"
      ]
     },
     "execution_count": 8,
     "metadata": {},
     "output_type": "execute_result"
    }
   ],
   "source": [
    "heroes.columns"
   ]
  },
  {
   "cell_type": "code",
   "execution_count": 9,
   "id": "70d6cc20",
   "metadata": {},
   "outputs": [
    {
     "data": {
      "text/plain": [
       "7340"
      ]
     },
     "execution_count": 9,
     "metadata": {},
     "output_type": "execute_result"
    }
   ],
   "source": [
    "heroes.size"
   ]
  },
  {
   "cell_type": "code",
   "execution_count": 10,
   "id": "86ca1dfe",
   "metadata": {},
   "outputs": [
    {
     "data": {
      "text/plain": [
       "array(['good', 'bad', 'Unknown', 'neutral'], dtype=object)"
      ]
     },
     "execution_count": 10,
     "metadata": {},
     "output_type": "execute_result"
    }
   ],
   "source": [
    "heroes['Alignment'].unique()"
   ]
  },
  {
   "cell_type": "code",
   "execution_count": 11,
   "id": "a2c33e44",
   "metadata": {},
   "outputs": [
    {
     "data": {
      "text/plain": [
       "array(['Marvel Comics', 'Dark Horse Comics', 'DC Comics', 'NBC - Heroes',\n",
       "       'Wildstorm', 'Image Comics', nan, 'Icon Comics', 'SyFy',\n",
       "       'Hanna-Barbera', 'George Lucas', 'Team Epic TV', 'South Park',\n",
       "       'HarperCollins', 'ABC Studios', 'Universal Studios', 'Star Trek',\n",
       "       'IDW Publishing', 'Shueisha', 'Sony Pictures', 'J. K. Rowling',\n",
       "       'Titan Books', 'Rebellion', 'Microsoft', 'J. R. R. Tolkien'],\n",
       "      dtype=object)"
      ]
     },
     "execution_count": 11,
     "metadata": {},
     "output_type": "execute_result"
    }
   ],
   "source": [
    "heroes['Publisher'].unique()"
   ]
  },
  {
   "cell_type": "code",
   "execution_count": 12,
   "id": "661463d5",
   "metadata": {},
   "outputs": [
    {
     "data": {
      "text/plain": [
       "array(['Male', 'Female', 'Unknown'], dtype=object)"
      ]
     },
     "execution_count": 12,
     "metadata": {},
     "output_type": "execute_result"
    }
   ],
   "source": [
    "heroes['Gender'].unique()"
   ]
  },
  {
   "cell_type": "code",
   "execution_count": 13,
   "id": "0571ff0b",
   "metadata": {},
   "outputs": [
    {
     "data": {
      "text/plain": [
       "Weight\n",
       "54.0     23\n",
       "79.0     23\n",
       "81.0     22\n",
       "90.0     19\n",
       "52.0     15\n",
       "         ..\n",
       "268.0     1\n",
       "16.0      1\n",
       "167.0     1\n",
       "45.0      1\n",
       "17.0      1\n",
       "Name: count, Length: 134, dtype: int64"
      ]
     },
     "execution_count": 13,
     "metadata": {},
     "output_type": "execute_result"
    }
   ],
   "source": [
    "heroes['Weight'].value_counts()"
   ]
  },
  {
   "cell_type": "code",
   "execution_count": 14,
   "id": "9dfa998d",
   "metadata": {},
   "outputs": [
    {
     "data": {
      "text/html": [
       "<div>\n",
       "<style scoped>\n",
       "    .dataframe tbody tr th:only-of-type {\n",
       "        vertical-align: middle;\n",
       "    }\n",
       "\n",
       "    .dataframe tbody tr th {\n",
       "        vertical-align: top;\n",
       "    }\n",
       "\n",
       "    .dataframe thead th {\n",
       "        text-align: right;\n",
       "    }\n",
       "</style>\n",
       "<table border=\"1\" class=\"dataframe\">\n",
       "  <thead>\n",
       "    <tr style=\"text-align: right;\">\n",
       "      <th></th>\n",
       "      <th>name</th>\n",
       "      <th>Gender</th>\n",
       "      <th>Eye color</th>\n",
       "      <th>Race</th>\n",
       "      <th>Hair color</th>\n",
       "      <th>Height</th>\n",
       "      <th>Publisher</th>\n",
       "      <th>Skin color</th>\n",
       "      <th>Alignment</th>\n",
       "      <th>Weight</th>\n",
       "    </tr>\n",
       "  </thead>\n",
       "  <tbody>\n",
       "    <tr>\n",
       "      <th>0</th>\n",
       "      <td>A-Bomb</td>\n",
       "      <td>Male</td>\n",
       "      <td>yellow</td>\n",
       "      <td>Human</td>\n",
       "      <td>No Hair</td>\n",
       "      <td>203.0</td>\n",
       "      <td>Marvel Comics</td>\n",
       "      <td>Unknown</td>\n",
       "      <td>good</td>\n",
       "      <td>441.0</td>\n",
       "    </tr>\n",
       "    <tr>\n",
       "      <th>1</th>\n",
       "      <td>Abe Sapien</td>\n",
       "      <td>Male</td>\n",
       "      <td>blue</td>\n",
       "      <td>Icthyo Sapien</td>\n",
       "      <td>No Hair</td>\n",
       "      <td>191.0</td>\n",
       "      <td>Dark Horse Comics</td>\n",
       "      <td>blue</td>\n",
       "      <td>good</td>\n",
       "      <td>65.0</td>\n",
       "    </tr>\n",
       "    <tr>\n",
       "      <th>2</th>\n",
       "      <td>Abin Sur</td>\n",
       "      <td>Male</td>\n",
       "      <td>blue</td>\n",
       "      <td>Ungaran</td>\n",
       "      <td>No Hair</td>\n",
       "      <td>185.0</td>\n",
       "      <td>DC Comics</td>\n",
       "      <td>red</td>\n",
       "      <td>good</td>\n",
       "      <td>90.0</td>\n",
       "    </tr>\n",
       "    <tr>\n",
       "      <th>3</th>\n",
       "      <td>Abomination</td>\n",
       "      <td>Male</td>\n",
       "      <td>green</td>\n",
       "      <td>Human / Radiation</td>\n",
       "      <td>No Hair</td>\n",
       "      <td>203.0</td>\n",
       "      <td>Marvel Comics</td>\n",
       "      <td>Unknown</td>\n",
       "      <td>bad</td>\n",
       "      <td>441.0</td>\n",
       "    </tr>\n",
       "    <tr>\n",
       "      <th>4</th>\n",
       "      <td>Abraxas</td>\n",
       "      <td>Male</td>\n",
       "      <td>blue</td>\n",
       "      <td>Cosmic Entity</td>\n",
       "      <td>Black</td>\n",
       "      <td>NaN</td>\n",
       "      <td>Marvel Comics</td>\n",
       "      <td>Unknown</td>\n",
       "      <td>bad</td>\n",
       "      <td>NaN</td>\n",
       "    </tr>\n",
       "    <tr>\n",
       "      <th>...</th>\n",
       "      <td>...</td>\n",
       "      <td>...</td>\n",
       "      <td>...</td>\n",
       "      <td>...</td>\n",
       "      <td>...</td>\n",
       "      <td>...</td>\n",
       "      <td>...</td>\n",
       "      <td>...</td>\n",
       "      <td>...</td>\n",
       "      <td>...</td>\n",
       "    </tr>\n",
       "    <tr>\n",
       "      <th>729</th>\n",
       "      <td>Yellowjacket II</td>\n",
       "      <td>Female</td>\n",
       "      <td>blue</td>\n",
       "      <td>Human</td>\n",
       "      <td>Strawberry Blond</td>\n",
       "      <td>165.0</td>\n",
       "      <td>Marvel Comics</td>\n",
       "      <td>Unknown</td>\n",
       "      <td>good</td>\n",
       "      <td>52.0</td>\n",
       "    </tr>\n",
       "    <tr>\n",
       "      <th>730</th>\n",
       "      <td>Ymir</td>\n",
       "      <td>Male</td>\n",
       "      <td>white</td>\n",
       "      <td>Frost Giant</td>\n",
       "      <td>No Hair</td>\n",
       "      <td>304.8</td>\n",
       "      <td>Marvel Comics</td>\n",
       "      <td>white</td>\n",
       "      <td>good</td>\n",
       "      <td>NaN</td>\n",
       "    </tr>\n",
       "    <tr>\n",
       "      <th>731</th>\n",
       "      <td>Yoda</td>\n",
       "      <td>Male</td>\n",
       "      <td>brown</td>\n",
       "      <td>Yoda's species</td>\n",
       "      <td>White</td>\n",
       "      <td>66.0</td>\n",
       "      <td>George Lucas</td>\n",
       "      <td>green</td>\n",
       "      <td>good</td>\n",
       "      <td>17.0</td>\n",
       "    </tr>\n",
       "    <tr>\n",
       "      <th>732</th>\n",
       "      <td>Zatanna</td>\n",
       "      <td>Female</td>\n",
       "      <td>blue</td>\n",
       "      <td>Human</td>\n",
       "      <td>Black</td>\n",
       "      <td>170.0</td>\n",
       "      <td>DC Comics</td>\n",
       "      <td>Unknown</td>\n",
       "      <td>good</td>\n",
       "      <td>57.0</td>\n",
       "    </tr>\n",
       "    <tr>\n",
       "      <th>733</th>\n",
       "      <td>Zoom</td>\n",
       "      <td>Male</td>\n",
       "      <td>red</td>\n",
       "      <td>Unknown</td>\n",
       "      <td>Brown</td>\n",
       "      <td>185.0</td>\n",
       "      <td>DC Comics</td>\n",
       "      <td>Unknown</td>\n",
       "      <td>bad</td>\n",
       "      <td>81.0</td>\n",
       "    </tr>\n",
       "  </tbody>\n",
       "</table>\n",
       "<p>734 rows × 10 columns</p>\n",
       "</div>"
      ],
      "text/plain": [
       "                name  Gender Eye color               Race        Hair color  \\\n",
       "0             A-Bomb    Male    yellow              Human           No Hair   \n",
       "1         Abe Sapien    Male      blue      Icthyo Sapien           No Hair   \n",
       "2           Abin Sur    Male      blue            Ungaran           No Hair   \n",
       "3        Abomination    Male     green  Human / Radiation           No Hair   \n",
       "4            Abraxas    Male      blue      Cosmic Entity             Black   \n",
       "..               ...     ...       ...                ...               ...   \n",
       "729  Yellowjacket II  Female      blue              Human  Strawberry Blond   \n",
       "730             Ymir    Male     white        Frost Giant           No Hair   \n",
       "731             Yoda    Male     brown     Yoda's species             White   \n",
       "732          Zatanna  Female      blue              Human             Black   \n",
       "733             Zoom    Male       red            Unknown             Brown   \n",
       "\n",
       "     Height          Publisher Skin color Alignment  Weight  \n",
       "0     203.0      Marvel Comics    Unknown      good   441.0  \n",
       "1     191.0  Dark Horse Comics       blue      good    65.0  \n",
       "2     185.0          DC Comics        red      good    90.0  \n",
       "3     203.0      Marvel Comics    Unknown       bad   441.0  \n",
       "4       NaN      Marvel Comics    Unknown       bad     NaN  \n",
       "..      ...                ...        ...       ...     ...  \n",
       "729   165.0      Marvel Comics    Unknown      good    52.0  \n",
       "730   304.8      Marvel Comics      white      good     NaN  \n",
       "731    66.0       George Lucas      green      good    17.0  \n",
       "732   170.0          DC Comics    Unknown      good    57.0  \n",
       "733   185.0          DC Comics    Unknown       bad    81.0  \n",
       "\n",
       "[734 rows x 10 columns]"
      ]
     },
     "execution_count": 14,
     "metadata": {},
     "output_type": "execute_result"
    }
   ],
   "source": [
    "heroes['Skin color'] = heroes['Skin color'].replace('-', np.nan)\n",
    "heroes"
   ]
  },
  {
   "cell_type": "code",
   "execution_count": 15,
   "id": "fa6e8cb9",
   "metadata": {},
   "outputs": [],
   "source": [
    "heroes = heroes.drop_duplicates()"
   ]
  },
  {
   "cell_type": "markdown",
   "id": "a2a32444",
   "metadata": {},
   "source": [
    "Value Counts"
   ]
  },
  {
   "cell_type": "code",
   "execution_count": 16,
   "id": "dfac70d9",
   "metadata": {},
   "outputs": [
    {
     "data": {
      "text/plain": [
       "Alignment\n",
       "good       495\n",
       "bad        207\n",
       "neutral     24\n",
       "Unknown      7\n",
       "Name: count, dtype: int64"
      ]
     },
     "execution_count": 16,
     "metadata": {},
     "output_type": "execute_result"
    }
   ],
   "source": [
    "heroes[\"Alignment\"].value_counts()"
   ]
  },
  {
   "cell_type": "code",
   "execution_count": 17,
   "id": "e209b894",
   "metadata": {},
   "outputs": [
    {
     "data": {
      "text/plain": [
       "Gender\n",
       "Male       165\n",
       "Female      35\n",
       "Unknown      7\n",
       "Name: count, dtype: int64"
      ]
     },
     "execution_count": 17,
     "metadata": {},
     "output_type": "execute_result"
    }
   ],
   "source": [
    "heroes[heroes[\"Alignment\"] == \"bad\"][\"Gender\"].value_counts()\n",
    "#Kötü kahramanların cinsiyet dağılımları"
   ]
  },
  {
   "cell_type": "code",
   "execution_count": 18,
   "id": "bb29ec8b",
   "metadata": {},
   "outputs": [
    {
     "data": {
      "text/plain": [
       "Gender\n",
       "Male       110\n",
       "Female      45\n",
       "Unknown      3\n",
       "Name: count, dtype: int64"
      ]
     },
     "execution_count": 18,
     "metadata": {},
     "output_type": "execute_result"
    }
   ],
   "source": [
    "heroes[heroes[\"Hair color\"] == \"Black\"][\"Gender\"].value_counts()\n",
    "# saçı siyah olanların cinsiyet dağılımı"
   ]
  },
  {
   "cell_type": "code",
   "execution_count": 19,
   "id": "7a061db8",
   "metadata": {},
   "outputs": [
    {
     "name": "stdout",
     "output_type": "stream",
     "text": [
      "           Height      Weight\n",
      "count  517.000000  495.000000\n",
      "mean   186.726306  112.252525\n",
      "std     59.251895  104.151142\n",
      "min     15.200000    2.000000\n",
      "25%    173.000000   61.000000\n",
      "50%    183.000000   81.000000\n",
      "75%    191.000000  108.000000\n",
      "max    975.000000  900.000000\n"
     ]
    }
   ],
   "source": [
    "print(heroes[[\"Height\", \"Weight\"]].describe())"
   ]
  },
  {
   "cell_type": "markdown",
   "id": "0fb4b0f5",
   "metadata": {},
   "source": [
    "Kategorik ve sayısal değişkenlerin dağılımı:"
   ]
  },
  {
   "cell_type": "code",
   "execution_count": 20,
   "id": "86531227",
   "metadata": {},
   "outputs": [
    {
     "name": "stdout",
     "output_type": "stream",
     "text": [
      "Categorical Columns: ['name', 'Gender', 'Eye color', 'Race', 'Hair color', 'Publisher', 'Skin color', 'Alignment']\n",
      "Numerical Columns: ['Height', 'Weight']\n"
     ]
    }
   ],
   "source": [
    "categorical_cols = heroes.select_dtypes(include=\"object\").columns.tolist()\n",
    "numerical_cols = heroes.select_dtypes(exclude=\"object\").columns.tolist()\n",
    "\n",
    "print(\"Categorical Columns:\", categorical_cols)\n",
    "print(\"Numerical Columns:\", numerical_cols)"
   ]
  },
  {
   "cell_type": "code",
   "execution_count": 21,
   "id": "fd7fc348",
   "metadata": {},
   "outputs": [
    {
     "name": "stdout",
     "output_type": "stream",
     "text": [
      "\n",
      "name Value Counts:\n",
      "name\n",
      "Spider-Man     3\n",
      "Vindicator     2\n",
      "Nova           2\n",
      "Speedy         2\n",
      "Batman         2\n",
      "Angel          2\n",
      "Namor          2\n",
      "Toxin          2\n",
      "Blue Beetle    2\n",
      "Batgirl        2\n",
      "Name: count, dtype: int64\n",
      "\n",
      "Gender Value Counts:\n",
      "Gender\n",
      "Male       504\n",
      "Female     200\n",
      "Unknown     29\n",
      "Name: count, dtype: int64\n",
      "\n",
      "Eye color Value Counts:\n",
      "Eye color\n",
      "blue       225\n",
      "Unknown    171\n",
      "brown      126\n",
      "green       73\n",
      "red         46\n",
      "black       23\n",
      "yellow      19\n",
      "white       17\n",
      "grey         6\n",
      "hazel        6\n",
      "Name: count, dtype: int64\n",
      "\n",
      "Race Value Counts:\n",
      "Race\n",
      "Unknown              304\n",
      "Human                207\n",
      "Mutant                63\n",
      "God / Eternal         14\n",
      "Human / Radiation     11\n",
      "Cyborg                11\n",
      "Android                9\n",
      "Symbiote               9\n",
      "Kryptonian             7\n",
      "Alien                  7\n",
      "Name: count, dtype: int64\n",
      "\n",
      "Hair color Value Counts:\n",
      "Hair color\n",
      "Unknown             171\n",
      "Black               158\n",
      "Blond                99\n",
      "Brown                86\n",
      "No Hair              75\n",
      "Red                  51\n",
      "White                23\n",
      "Auburn               13\n",
      "Green                 8\n",
      "Strawberry Blond      7\n",
      "Name: count, dtype: int64\n",
      "\n",
      "Publisher Value Counts:\n",
      "Publisher\n",
      "Marvel Comics        387\n",
      "DC Comics            215\n",
      "NBC - Heroes          19\n",
      "Dark Horse Comics     18\n",
      "George Lucas          14\n",
      "Image Comics          14\n",
      "Star Trek              6\n",
      "HarperCollins          6\n",
      "SyFy                   5\n",
      "Team Epic TV           5\n",
      "Name: count, dtype: int64\n",
      "\n",
      "Skin color Value Counts:\n",
      "Skin color\n",
      "Unknown    661\n",
      "green       21\n",
      "red          9\n",
      "blue         9\n",
      "white        7\n",
      "grey         5\n",
      "silver       5\n",
      "purple       3\n",
      "gold         3\n",
      "yellow       2\n",
      "Name: count, dtype: int64\n",
      "\n",
      "Alignment Value Counts:\n",
      "Alignment\n",
      "good       495\n",
      "bad        207\n",
      "neutral     24\n",
      "Unknown      7\n",
      "Name: count, dtype: int64\n"
     ]
    }
   ],
   "source": [
    "for col in categorical_cols:\n",
    "    print(f\"\\n{col} Value Counts:\")\n",
    "    print(heroes[col].value_counts().head(10))"
   ]
  },
  {
   "cell_type": "markdown",
   "id": "51a336ce",
   "metadata": {},
   "source": [
    "Aykırı Değer Analizi"
   ]
  },
  {
   "cell_type": "code",
   "execution_count": 22,
   "id": "413cadef",
   "metadata": {},
   "outputs": [
    {
     "name": "stdout",
     "output_type": "stream",
     "text": [
      "\n",
      "Height Outlier Summary:\n",
      "Q1 (25%): 173.00\n",
      "Q3 (75%): 191.00\n",
      "IQR: 18.00\n",
      "Lower Limit: 146.00\n",
      "Upper Limit: 218.00\n",
      "Outlier Count: 42 (8.12%)\n",
      "\n",
      "Weight Outlier Summary:\n",
      "Q1 (25%): 61.00\n",
      "Q3 (75%): 108.00\n",
      "IQR: 47.00\n",
      "Lower Limit: -9.50\n",
      "Upper Limit: 178.50\n",
      "Outlier Count: 60 (12.12%)\n"
     ]
    }
   ],
   "source": [
    "def detect_outliers_IQR(heroes, col):\n",
    "    Q1 = heroes[col].quantile(0.25)\n",
    "    Q3 = heroes[col].quantile(0.75)\n",
    "    IQR = Q3 - Q1\n",
    "    lower_limit = Q1 - 1.5 * IQR\n",
    "    upper_limit = Q3 + 1.5 * IQR\n",
    "\n",
    "    outliers = heroes[(heroes[col] < lower_limit) | (heroes[col] > upper_limit)]\n",
    "\n",
    "    print(f\"\\n{col} Outlier Summary:\")\n",
    "    print(f\"Q1 (25%): {Q1:.2f}\")\n",
    "    print(f\"Q3 (75%): {Q3:.2f}\")\n",
    "    print(f\"IQR: {IQR:.2f}\")\n",
    "    print(f\"Lower Limit: {lower_limit:.2f}\")\n",
    "    print(f\"Upper Limit: {upper_limit:.2f}\")\n",
    "    print(f\"Outlier Count: {outliers.shape[0]} ({round(outliers.shape[0] / heroes[col].dropna().shape[0] * 100, 2)}%)\")\n",
    "\n",
    "    return outliers\n",
    "\n",
    "outliers_height = detect_outliers_IQR(heroes, \"Height\")\n",
    "outliers_weight = detect_outliers_IQR(heroes, \"Weight\")\n"
   ]
  },
  {
   "cell_type": "code",
   "execution_count": 23,
   "id": "d287319e",
   "metadata": {},
   "outputs": [
    {
     "name": "stderr",
     "output_type": "stream",
     "text": [
      "/var/folders/tb/x26q917n19n8p2yddh4z45nw0000gn/T/ipykernel_19685/3430428405.py:1: SettingWithCopyWarning: \n",
      "A value is trying to be set on a copy of a slice from a DataFrame.\n",
      "Try using .loc[row_indexer,col_indexer] = value instead\n",
      "\n",
      "See the caveats in the documentation: https://pandas.pydata.org/pandas-docs/stable/user_guide/indexing.html#returning-a-view-versus-a-copy\n",
      "  heroes[\"Height\"] = heroes[\"Height\"].replace(-99, np.nan)\n",
      "/var/folders/tb/x26q917n19n8p2yddh4z45nw0000gn/T/ipykernel_19685/3430428405.py:2: SettingWithCopyWarning: \n",
      "A value is trying to be set on a copy of a slice from a DataFrame.\n",
      "Try using .loc[row_indexer,col_indexer] = value instead\n",
      "\n",
      "See the caveats in the documentation: https://pandas.pydata.org/pandas-docs/stable/user_guide/indexing.html#returning-a-view-versus-a-copy\n",
      "  heroes[\"Weight\"] = heroes[\"Weight\"].replace(-99, np.nan)\n"
     ]
    }
   ],
   "source": [
    "heroes[\"Height\"] = heroes[\"Height\"].replace(-99, np.nan)\n",
    "heroes[\"Weight\"] = heroes[\"Weight\"].replace(-99, np.nan)\n",
    "#-99 değerini nan yapatım"
   ]
  },
  {
   "cell_type": "code",
   "execution_count": 24,
   "id": "cd7dbda4",
   "metadata": {},
   "outputs": [],
   "source": [
    "missing_count = heroes[[\"Height\", \"Weight\"]].isnull().sum()\n",
    "missing_percent = (heroes[[\"Height\", \"Weight\"]].isnull().mean() * 100).round(2)"
   ]
  },
  {
   "cell_type": "code",
   "execution_count": 25,
   "id": "dba47f97",
   "metadata": {},
   "outputs": [
    {
     "data": {
      "image/png": "[encoded data removed]",
      "text/plain": [
       "<Figure size 800x400 with 1 Axes>"
      ]
     },
     "metadata": {},
     "output_type": "display_data"
    },
    {
     "data": {
      "image/png": "[encoded data removed]",
      "text/plain": [
       "<Figure size 800x400 with 1 Axes>"
      ]
     },
     "metadata": {},
     "output_type": "display_data"
    }
   ],
   "source": [
    "plt.figure(figsize=(8,4))\n",
    "sns.boxplot(data=heroes, x=\"Height\", color=\"salmon\")\n",
    "plt.title(\"Height Distribution with Outliers\", fontsize=13)\n",
    "plt.xlabel(\"Height (cm)\")\n",
    "plt.show()\n",
    "\n",
    "plt.figure(figsize=(8,4))\n",
    "sns.boxplot(data=heroes, x=\"Weight\", color=\"skyblue\")\n",
    "plt.title(\"Weight Distribution with Outliers\", fontsize=13)\n",
    "plt.xlabel(\"Weight (kg)\")\n",
    "plt.show()"
   ]
  },
  {
   "cell_type": "markdown",
   "id": "c87573b1",
   "metadata": {},
   "source": [
    "### 3. Veri Görselleştirme"
   ]
  },
  {
   "cell_type": "code",
   "execution_count": 26,
   "id": "7528d06b",
   "metadata": {},
   "outputs": [
    {
     "data": {
      "image/png": "[encoded data removed]",
      "text/plain": [
       "<Figure size 600x400 with 1 Axes>"
      ]
     },
     "metadata": {},
     "output_type": "display_data"
    }
   ],
   "source": [
    "plt.figure(figsize=(6,4))\n",
    "sns.countplot(data=heroes, x=\"Gender\", color=\"skyblue\") \n",
    "plt.title(\"Gender Distribution of Heroes\")\n",
    "plt.xlabel(\"Gender\")\n",
    "plt.ylabel(\"Count\")\n",
    "plt.show()\n",
    "#cinsiyete göre dağılım"
   ]
  },
  {
   "cell_type": "code",
   "execution_count": 27,
   "id": "910812ca",
   "metadata": {},
   "outputs": [
    {
     "data": {
      "image/png": "[encoded data removed]",
      "text/plain": [
       "<Figure size 600x400 with 1 Axes>"
      ]
     },
     "metadata": {},
     "output_type": "display_data"
    }
   ],
   "source": [
    "plt.figure(figsize=(6,4))\n",
    "sns.countplot(data=heroes, x=\"Alignment\", color=\"salmon\") \n",
    "plt.title(\"Alignment Distribution (Good / Bad / Neutral)\", fontsize=13) \n",
    "plt.xlabel(\"Alignment\") \n",
    "plt.ylabel(\"Count\")\n",
    "plt.show()"
   ]
  },
  {
   "cell_type": "code",
   "execution_count": 28,
   "id": "dcc5b209",
   "metadata": {},
   "outputs": [
    {
     "data": {
      "image/png": "[encoded data removed]",
      "text/plain": [
       "<Figure size 800x500 with 1 Axes>"
      ]
     },
     "metadata": {},
     "output_type": "display_data"
    }
   ],
   "source": [
    "race_counts = heroes['Race'].value_counts().head(10)\n",
    "\n",
    "plt.figure(figsize=(8,5))\n",
    "race_counts.plot(kind='bar', color='skyblue')\n",
    "plt.title('Superheroes Race Distribution', fontsize=13)\n",
    "plt.xlabel('Race')\n",
    "plt.ylabel('Number of Heroes')\n",
    "plt.xticks(rotation=45, ha='right')\n",
    "plt.show()\n"
   ]
  },
  {
   "cell_type": "code",
   "execution_count": 29,
   "id": "b0a80078",
   "metadata": {},
   "outputs": [
    {
     "data": {
      "image/png": "[encoded data removed]",
      "text/plain": [
       "<Figure size 1000x600 with 1 Axes>"
      ]
     },
     "metadata": {},
     "output_type": "display_data"
    }
   ],
   "source": [
    "df_cleaned = heroes.dropna()\n",
    "plt.figure(figsize=(10,6))\n",
    "plt.scatter(df_cleaned['Height'], df_cleaned['Weight'], color='#FFA500')\n",
    "plt.xlabel('Height')\n",
    "plt.ylabel('Weight')\n",
    "plt.title('Height vs Weight')\n",
    "plt.show()"
   ]
  },
  {
   "cell_type": "code",
   "execution_count": 30,
   "id": "b4b18c23",
   "metadata": {},
   "outputs": [
    {
     "data": {
      "image/png": "[encoded data removed]",
      "text/plain": [
       "<Figure size 700x500 with 1 Axes>"
      ]
     },
     "metadata": {},
     "output_type": "display_data"
    }
   ],
   "source": [
    "plt.figure(figsize=(7,5))\n",
    "sns.scatterplot(\n",
    "    data=heroes[heroes[\"Alignment\"] != \"Unknown\"], \n",
    "    x=\"Height\",y=\"Weight\",color=\"skyblue\",   \n",
    "    alpha=0.7,edgecolor=\"gray\" )  \n",
    "plt.title(\"Height vs Weight of Superheroes\", fontsize=13)\n",
    "plt.xlabel(\"Height\")\n",
    "plt.ylabel(\"Weight\")\n",
    "plt.show()"
   ]
  },
  {
   "cell_type": "code",
   "execution_count": 31,
   "id": "83db866c",
   "metadata": {},
   "outputs": [
    {
     "data": {
      "image/png": "[encoded data removed]",
      "text/plain": [
       "<Figure size 640x480 with 1 Axes>"
      ]
     },
     "metadata": {},
     "output_type": "display_data"
    }
   ],
   "source": [
    "hair_color_count = heroes['Hair color'].value_counts()\n",
    "x = hair_color_count.index\n",
    "y = hair_color_count.values\n",
    "plt.plot(x, y, marker='o',color=\"purple\")\n",
    "plt.xlabel('Hair Color')\n",
    "plt.ylabel('Hero Count')\n",
    "plt.title('Number of Heroes by Hair Color')\n",
    "plt.xticks(rotation=90) \n",
    "plt.show()\n"
   ]
  },
  {
   "cell_type": "code",
   "execution_count": 32,
   "id": "84dc254d",
   "metadata": {},
   "outputs": [
    {
     "data": {
      "image/png": "[encoded data removed]",
      "text/plain": [
       "<Figure size 600x600 with 1 Axes>"
      ]
     },
     "metadata": {},
     "output_type": "display_data"
    }
   ],
   "source": [
    "hero_p = heroes.Publisher.value_counts()\n",
    "hero_p = pd.DataFrame({\n",
    "    'label': ['Marvel Comics', 'DC Comics', 'Others'],\n",
    "    'value': hero_p[:2].values.tolist() + [hero_p[2:].sum()]\n",
    "}) \n",
    "plt.figure(figsize=(6,6))                      \n",
    "plt.pie(hero_p['value'],                       \n",
    "        labels=hero_p['label'],               \n",
    "        autopct='%1.1f%%',                     \n",
    "        startangle=90,                        \n",
    "        colors=['purple', 'green', 'gold' ])\n",
    "plt.title('Comics Publishers Distribution', fontsize=13)\n",
    "plt.show()\n",
    "\n",
    "#Marvel ve Dc en fazla olduğu için bunu görselleştirmek istedim"
   ]
  },
  {
   "cell_type": "markdown",
   "id": "19c012df",
   "metadata": {},
   "source": [
    "### 4. Veri Ön İşleme"
   ]
  },
  {
   "cell_type": "code",
   "execution_count": 33,
   "id": "a6ec2123",
   "metadata": {},
   "outputs": [
    {
     "data": {
      "text/plain": [
       "name            0\n",
       "Gender          0\n",
       "Eye color       0\n",
       "Race            0\n",
       "Hair color      0\n",
       "Height        216\n",
       "Publisher      15\n",
       "Skin color      0\n",
       "Alignment       0\n",
       "Weight        238\n",
       "dtype: int64"
      ]
     },
     "execution_count": 33,
     "metadata": {},
     "output_type": "execute_result"
    }
   ],
   "source": [
    "heroes.isnull().sum()"
   ]
  },
  {
   "cell_type": "code",
   "execution_count": 34,
   "id": "096ea92e",
   "metadata": {},
   "outputs": [
    {
     "name": "stderr",
     "output_type": "stream",
     "text": [
      "/var/folders/tb/x26q917n19n8p2yddh4z45nw0000gn/T/ipykernel_19685/3944506353.py:1: SettingWithCopyWarning: \n",
      "A value is trying to be set on a copy of a slice from a DataFrame.\n",
      "Try using .loc[row_indexer,col_indexer] = value instead\n",
      "\n",
      "See the caveats in the documentation: https://pandas.pydata.org/pandas-docs/stable/user_guide/indexing.html#returning-a-view-versus-a-copy\n",
      "  heroes['Height'] = heroes['Height'].fillna(heroes['Height'].mean())\n",
      "/var/folders/tb/x26q917n19n8p2yddh4z45nw0000gn/T/ipykernel_19685/3944506353.py:2: SettingWithCopyWarning: \n",
      "A value is trying to be set on a copy of a slice from a DataFrame.\n",
      "Try using .loc[row_indexer,col_indexer] = value instead\n",
      "\n",
      "See the caveats in the documentation: https://pandas.pydata.org/pandas-docs/stable/user_guide/indexing.html#returning-a-view-versus-a-copy\n",
      "  heroes['Weight'] = heroes['Weight'].fillna(heroes['Weight'].mean())\n"
     ]
    },
    {
     "data": {
      "text/html": [
       "<div>\n",
       "<style scoped>\n",
       "    .dataframe tbody tr th:only-of-type {\n",
       "        vertical-align: middle;\n",
       "    }\n",
       "\n",
       "    .dataframe tbody tr th {\n",
       "        vertical-align: top;\n",
       "    }\n",
       "\n",
       "    .dataframe thead th {\n",
       "        text-align: right;\n",
       "    }\n",
       "</style>\n",
       "<table border=\"1\" class=\"dataframe\">\n",
       "  <thead>\n",
       "    <tr style=\"text-align: right;\">\n",
       "      <th></th>\n",
       "      <th>Height</th>\n",
       "      <th>Weight</th>\n",
       "    </tr>\n",
       "  </thead>\n",
       "  <tbody>\n",
       "    <tr>\n",
       "      <th>0</th>\n",
       "      <td>203.000000</td>\n",
       "      <td>441.000000</td>\n",
       "    </tr>\n",
       "    <tr>\n",
       "      <th>1</th>\n",
       "      <td>191.000000</td>\n",
       "      <td>65.000000</td>\n",
       "    </tr>\n",
       "    <tr>\n",
       "      <th>2</th>\n",
       "      <td>185.000000</td>\n",
       "      <td>90.000000</td>\n",
       "    </tr>\n",
       "    <tr>\n",
       "      <th>3</th>\n",
       "      <td>203.000000</td>\n",
       "      <td>441.000000</td>\n",
       "    </tr>\n",
       "    <tr>\n",
       "      <th>4</th>\n",
       "      <td>186.726306</td>\n",
       "      <td>112.252525</td>\n",
       "    </tr>\n",
       "    <tr>\n",
       "      <th>5</th>\n",
       "      <td>193.000000</td>\n",
       "      <td>122.000000</td>\n",
       "    </tr>\n",
       "    <tr>\n",
       "      <th>6</th>\n",
       "      <td>186.726306</td>\n",
       "      <td>112.252525</td>\n",
       "    </tr>\n",
       "    <tr>\n",
       "      <th>7</th>\n",
       "      <td>185.000000</td>\n",
       "      <td>88.000000</td>\n",
       "    </tr>\n",
       "    <tr>\n",
       "      <th>8</th>\n",
       "      <td>173.000000</td>\n",
       "      <td>61.000000</td>\n",
       "    </tr>\n",
       "    <tr>\n",
       "      <th>9</th>\n",
       "      <td>178.000000</td>\n",
       "      <td>81.000000</td>\n",
       "    </tr>\n",
       "  </tbody>\n",
       "</table>\n",
       "</div>"
      ],
      "text/plain": [
       "       Height      Weight\n",
       "0  203.000000  441.000000\n",
       "1  191.000000   65.000000\n",
       "2  185.000000   90.000000\n",
       "3  203.000000  441.000000\n",
       "4  186.726306  112.252525\n",
       "5  193.000000  122.000000\n",
       "6  186.726306  112.252525\n",
       "7  185.000000   88.000000\n",
       "8  173.000000   61.000000\n",
       "9  178.000000   81.000000"
      ]
     },
     "execution_count": 34,
     "metadata": {},
     "output_type": "execute_result"
    }
   ],
   "source": [
    "heroes['Height'] = heroes['Height'].fillna(heroes['Height'].mean())\n",
    "heroes['Weight'] = heroes['Weight'].fillna(heroes['Weight'].mean())\n",
    "# Boy ve kilo sütunlarındaki eksik değeleri ortalama ile doldurdum\n",
    "heroes = heroes[['Height', 'Weight']]\n",
    "heroes.head(10)\n"
   ]
  },
  {
   "cell_type": "code",
   "execution_count": 35,
   "id": "66b333de",
   "metadata": {},
   "outputs": [
    {
     "data": {
      "text/plain": [
       "Height    0\n",
       "Weight    0\n",
       "dtype: int64"
      ]
     },
     "execution_count": 35,
     "metadata": {},
     "output_type": "execute_result"
    }
   ],
   "source": [
    "heroes.isnull().sum()\n",
    "#eksik veri kontolü yaptım"
   ]
  },
  {
   "cell_type": "markdown",
   "id": "177bd981",
   "metadata": {},
   "source": [
    "Kategorik Değişkenler İçin Encoding "
   ]
  },
  {
   "cell_type": "code",
   "execution_count": 36,
   "id": "92f50a73",
   "metadata": {},
   "outputs": [],
   "source": [
    "from sklearn.preprocessing import LabelEncoder, OneHotEncoder"
   ]
  },
  {
   "cell_type": "code",
   "execution_count": 37,
   "id": "0434347e",
   "metadata": {},
   "outputs": [
    {
     "name": "stdout",
     "output_type": "stream",
     "text": [
      "['Unnamed: 0', 'name', 'Gender', 'Eye color', 'Race', 'Hair color', 'Height', 'Publisher', 'Skin color', 'Alignment', 'Weight']\n"
     ]
    }
   ],
   "source": [
    "heroes = pd.read_csv(\"/Users/reyhansenayilmaz/Documents/superheroes_analysis.csv/data/heroes_information.csv\")\n",
    "#tekrar veri setini yükledim çünkü bazı kodlar için heroesi değiştirmiştim tekrardan yüklemek gerekti\n",
    "print(heroes.columns.to_list())"
   ]
  },
  {
   "cell_type": "code",
   "execution_count": 38,
   "id": "0bb94b19",
   "metadata": {},
   "outputs": [],
   "source": [
    "heroes.fillna({\n",
    "    'Gender': 'Unknown',\n",
    "    'Race': 'Unknown',\n",
    "    'Publisher': 'Unknown',\n",
    "    'Alignment': 'Unknown'\n",
    "}, inplace=True)\n",
    "label_encoder = LabelEncoder()\n",
    "\n",
    "heroes['Gender_encoded'] = label_encoder.fit_transform(heroes['Gender'])\n",
    "heroes['Alignment_encoded'] = label_encoder.fit_transform(heroes['Alignment'])\n",
    "heroes['Publisher_encoded'] = label_encoder.fit_transform(heroes['Publisher'])\n",
    "heroes['Race_encoded'] = label_encoder.fit_transform(heroes['Race'])\n"
   ]
  },
  {
   "cell_type": "code",
   "execution_count": 39,
   "id": "0fc1c75a",
   "metadata": {},
   "outputs": [
    {
     "name": "stdout",
     "output_type": "stream",
     "text": [
      "Encoded columns: Index(['Unnamed: 0', 'name', 'Eye color', 'Hair color', 'Height', 'Skin color',\n",
      "       'Weight', 'Gender_encoded', 'Alignment_encoded', 'Publisher_encoded'],\n",
      "      dtype='object')\n"
     ]
    },
    {
     "data": {
      "text/html": [
       "<div>\n",
       "<style scoped>\n",
       "    .dataframe tbody tr th:only-of-type {\n",
       "        vertical-align: middle;\n",
       "    }\n",
       "\n",
       "    .dataframe tbody tr th {\n",
       "        vertical-align: top;\n",
       "    }\n",
       "\n",
       "    .dataframe thead th {\n",
       "        text-align: right;\n",
       "    }\n",
       "</style>\n",
       "<table border=\"1\" class=\"dataframe\">\n",
       "  <thead>\n",
       "    <tr style=\"text-align: right;\">\n",
       "      <th></th>\n",
       "      <th>Unnamed: 0</th>\n",
       "      <th>name</th>\n",
       "      <th>Eye color</th>\n",
       "      <th>Hair color</th>\n",
       "      <th>Height</th>\n",
       "      <th>Skin color</th>\n",
       "      <th>Weight</th>\n",
       "      <th>Gender_encoded</th>\n",
       "      <th>Alignment_encoded</th>\n",
       "      <th>Publisher_encoded</th>\n",
       "      <th>...</th>\n",
       "      <th>Race_Symbiote</th>\n",
       "      <th>Race_Talokite</th>\n",
       "      <th>Race_Tamaranean</th>\n",
       "      <th>Race_Ungaran</th>\n",
       "      <th>Race_Vampire</th>\n",
       "      <th>Race_Xenomorph XX121</th>\n",
       "      <th>Race_Yautja</th>\n",
       "      <th>Race_Yoda's species</th>\n",
       "      <th>Race_Zen-Whoberian</th>\n",
       "      <th>Race_Zombie</th>\n",
       "    </tr>\n",
       "  </thead>\n",
       "  <tbody>\n",
       "    <tr>\n",
       "      <th>0</th>\n",
       "      <td>0</td>\n",
       "      <td>A-Bomb</td>\n",
       "      <td>yellow</td>\n",
       "      <td>No Hair</td>\n",
       "      <td>203.0</td>\n",
       "      <td>-</td>\n",
       "      <td>441.0</td>\n",
       "      <td>2</td>\n",
       "      <td>2</td>\n",
       "      <td>11</td>\n",
       "      <td>...</td>\n",
       "      <td>False</td>\n",
       "      <td>False</td>\n",
       "      <td>False</td>\n",
       "      <td>False</td>\n",
       "      <td>False</td>\n",
       "      <td>False</td>\n",
       "      <td>False</td>\n",
       "      <td>False</td>\n",
       "      <td>False</td>\n",
       "      <td>False</td>\n",
       "    </tr>\n",
       "    <tr>\n",
       "      <th>1</th>\n",
       "      <td>1</td>\n",
       "      <td>Abe Sapien</td>\n",
       "      <td>blue</td>\n",
       "      <td>No Hair</td>\n",
       "      <td>191.0</td>\n",
       "      <td>blue</td>\n",
       "      <td>65.0</td>\n",
       "      <td>2</td>\n",
       "      <td>2</td>\n",
       "      <td>2</td>\n",
       "      <td>...</td>\n",
       "      <td>False</td>\n",
       "      <td>False</td>\n",
       "      <td>False</td>\n",
       "      <td>False</td>\n",
       "      <td>False</td>\n",
       "      <td>False</td>\n",
       "      <td>False</td>\n",
       "      <td>False</td>\n",
       "      <td>False</td>\n",
       "      <td>False</td>\n",
       "    </tr>\n",
       "    <tr>\n",
       "      <th>2</th>\n",
       "      <td>2</td>\n",
       "      <td>Abin Sur</td>\n",
       "      <td>blue</td>\n",
       "      <td>No Hair</td>\n",
       "      <td>185.0</td>\n",
       "      <td>red</td>\n",
       "      <td>90.0</td>\n",
       "      <td>2</td>\n",
       "      <td>2</td>\n",
       "      <td>1</td>\n",
       "      <td>...</td>\n",
       "      <td>False</td>\n",
       "      <td>False</td>\n",
       "      <td>False</td>\n",
       "      <td>True</td>\n",
       "      <td>False</td>\n",
       "      <td>False</td>\n",
       "      <td>False</td>\n",
       "      <td>False</td>\n",
       "      <td>False</td>\n",
       "      <td>False</td>\n",
       "    </tr>\n",
       "    <tr>\n",
       "      <th>3</th>\n",
       "      <td>3</td>\n",
       "      <td>Abomination</td>\n",
       "      <td>green</td>\n",
       "      <td>No Hair</td>\n",
       "      <td>203.0</td>\n",
       "      <td>-</td>\n",
       "      <td>441.0</td>\n",
       "      <td>2</td>\n",
       "      <td>1</td>\n",
       "      <td>11</td>\n",
       "      <td>...</td>\n",
       "      <td>False</td>\n",
       "      <td>False</td>\n",
       "      <td>False</td>\n",
       "      <td>False</td>\n",
       "      <td>False</td>\n",
       "      <td>False</td>\n",
       "      <td>False</td>\n",
       "      <td>False</td>\n",
       "      <td>False</td>\n",
       "      <td>False</td>\n",
       "    </tr>\n",
       "    <tr>\n",
       "      <th>4</th>\n",
       "      <td>4</td>\n",
       "      <td>Abraxas</td>\n",
       "      <td>blue</td>\n",
       "      <td>Black</td>\n",
       "      <td>-99.0</td>\n",
       "      <td>-</td>\n",
       "      <td>-99.0</td>\n",
       "      <td>2</td>\n",
       "      <td>1</td>\n",
       "      <td>11</td>\n",
       "      <td>...</td>\n",
       "      <td>False</td>\n",
       "      <td>False</td>\n",
       "      <td>False</td>\n",
       "      <td>False</td>\n",
       "      <td>False</td>\n",
       "      <td>False</td>\n",
       "      <td>False</td>\n",
       "      <td>False</td>\n",
       "      <td>False</td>\n",
       "      <td>False</td>\n",
       "    </tr>\n",
       "  </tbody>\n",
       "</table>\n",
       "<p>5 rows × 101 columns</p>\n",
       "</div>"
      ],
      "text/plain": [
       "   Unnamed: 0         name Eye color Hair color  Height Skin color  Weight  \\\n",
       "0           0       A-Bomb    yellow    No Hair   203.0          -   441.0   \n",
       "1           1   Abe Sapien      blue    No Hair   191.0       blue    65.0   \n",
       "2           2     Abin Sur      blue    No Hair   185.0        red    90.0   \n",
       "3           3  Abomination     green    No Hair   203.0          -   441.0   \n",
       "4           4      Abraxas      blue      Black   -99.0          -   -99.0   \n",
       "\n",
       "   Gender_encoded  Alignment_encoded  Publisher_encoded  ...  Race_Symbiote  \\\n",
       "0               2                  2                 11  ...          False   \n",
       "1               2                  2                  2  ...          False   \n",
       "2               2                  2                  1  ...          False   \n",
       "3               2                  1                 11  ...          False   \n",
       "4               2                  1                 11  ...          False   \n",
       "\n",
       "   Race_Talokite  Race_Tamaranean  Race_Ungaran  Race_Vampire  \\\n",
       "0          False            False         False         False   \n",
       "1          False            False         False         False   \n",
       "2          False            False          True         False   \n",
       "3          False            False         False         False   \n",
       "4          False            False         False         False   \n",
       "\n",
       "   Race_Xenomorph XX121  Race_Yautja  Race_Yoda's species  Race_Zen-Whoberian  \\\n",
       "0                 False        False                False               False   \n",
       "1                 False        False                False               False   \n",
       "2                 False        False                False               False   \n",
       "3                 False        False                False               False   \n",
       "4                 False        False                False               False   \n",
       "\n",
       "   Race_Zombie  \n",
       "0        False  \n",
       "1        False  \n",
       "2        False  \n",
       "3        False  \n",
       "4        False  \n",
       "\n",
       "[5 rows x 101 columns]"
      ]
     },
     "execution_count": 39,
     "metadata": {},
     "output_type": "execute_result"
    }
   ],
   "source": [
    "heroes = pd.get_dummies(\n",
    "    heroes,\n",
    "    columns=['Gender', 'Alignment', 'Publisher', 'Race'],\n",
    "    prefix=['Gen', 'Ali', 'Pub', 'Race'],\n",
    "    drop_first=True\n",
    ")\n",
    "print(\"Encoded columns:\", heroes.columns[: 10]) \n",
    "heroes.head()\n"
   ]
  },
  {
   "cell_type": "markdown",
   "id": "c16bdff5",
   "metadata": {},
   "source": [
    "Scaling"
   ]
  },
  {
   "cell_type": "code",
   "execution_count": 40,
   "id": "f05e3e8a",
   "metadata": {},
   "outputs": [],
   "source": [
    "from sklearn.preprocessing import StandardScaler"
   ]
  },
  {
   "cell_type": "code",
   "execution_count": 41,
   "id": "a124ba4c",
   "metadata": {},
   "outputs": [
    {
     "name": "stdout",
     "output_type": "stream",
     "text": [
      "     Height    Weight\n",
      "0  0.722041  3.037800\n",
      "1  0.636037  0.161739\n",
      "2  0.593036  0.352966\n",
      "3  0.722041  3.037800\n",
      "4 -1.442378 -1.092714\n"
     ]
    }
   ],
   "source": [
    "scaler = StandardScaler()\n",
    "num_cols = ['Height', 'Weight'] #nümerik olanlar bunlar olduğu için \n",
    "heroes[num_cols] = scaler.fit_transform(heroes[num_cols])\n",
    "print(heroes[num_cols].head())"
   ]
  },
  {
   "cell_type": "markdown",
   "id": "5e55a9c7",
   "metadata": {},
   "source": [
    "### 5. Basit Bir Modelleme"
   ]
  },
  {
   "cell_type": "code",
   "execution_count": 42,
   "id": "65625f70",
   "metadata": {},
   "outputs": [
    {
     "data": {
      "text/html": [
       "<div>\n",
       "<style scoped>\n",
       "    .dataframe tbody tr th:only-of-type {\n",
       "        vertical-align: middle;\n",
       "    }\n",
       "\n",
       "    .dataframe tbody tr th {\n",
       "        vertical-align: top;\n",
       "    }\n",
       "\n",
       "    .dataframe thead th {\n",
       "        text-align: right;\n",
       "    }\n",
       "</style>\n",
       "<table border=\"1\" class=\"dataframe\">\n",
       "  <thead>\n",
       "    <tr style=\"text-align: right;\">\n",
       "      <th></th>\n",
       "      <th>Unnamed: 0</th>\n",
       "      <th>name</th>\n",
       "      <th>Eye color</th>\n",
       "      <th>Hair color</th>\n",
       "      <th>Height</th>\n",
       "      <th>Skin color</th>\n",
       "      <th>Weight</th>\n",
       "      <th>Gender_encoded</th>\n",
       "      <th>Alignment_encoded</th>\n",
       "      <th>Publisher_encoded</th>\n",
       "      <th>...</th>\n",
       "      <th>Race_Symbiote</th>\n",
       "      <th>Race_Talokite</th>\n",
       "      <th>Race_Tamaranean</th>\n",
       "      <th>Race_Ungaran</th>\n",
       "      <th>Race_Vampire</th>\n",
       "      <th>Race_Xenomorph XX121</th>\n",
       "      <th>Race_Yautja</th>\n",
       "      <th>Race_Yoda's species</th>\n",
       "      <th>Race_Zen-Whoberian</th>\n",
       "      <th>Race_Zombie</th>\n",
       "    </tr>\n",
       "  </thead>\n",
       "  <tbody>\n",
       "    <tr>\n",
       "      <th>0</th>\n",
       "      <td>0</td>\n",
       "      <td>A-Bomb</td>\n",
       "      <td>yellow</td>\n",
       "      <td>No Hair</td>\n",
       "      <td>0.722041</td>\n",
       "      <td>-</td>\n",
       "      <td>3.037800</td>\n",
       "      <td>2</td>\n",
       "      <td>2</td>\n",
       "      <td>11</td>\n",
       "      <td>...</td>\n",
       "      <td>False</td>\n",
       "      <td>False</td>\n",
       "      <td>False</td>\n",
       "      <td>False</td>\n",
       "      <td>False</td>\n",
       "      <td>False</td>\n",
       "      <td>False</td>\n",
       "      <td>False</td>\n",
       "      <td>False</td>\n",
       "      <td>False</td>\n",
       "    </tr>\n",
       "    <tr>\n",
       "      <th>1</th>\n",
       "      <td>1</td>\n",
       "      <td>Abe Sapien</td>\n",
       "      <td>blue</td>\n",
       "      <td>No Hair</td>\n",
       "      <td>0.636037</td>\n",
       "      <td>blue</td>\n",
       "      <td>0.161739</td>\n",
       "      <td>2</td>\n",
       "      <td>2</td>\n",
       "      <td>2</td>\n",
       "      <td>...</td>\n",
       "      <td>False</td>\n",
       "      <td>False</td>\n",
       "      <td>False</td>\n",
       "      <td>False</td>\n",
       "      <td>False</td>\n",
       "      <td>False</td>\n",
       "      <td>False</td>\n",
       "      <td>False</td>\n",
       "      <td>False</td>\n",
       "      <td>False</td>\n",
       "    </tr>\n",
       "    <tr>\n",
       "      <th>2</th>\n",
       "      <td>2</td>\n",
       "      <td>Abin Sur</td>\n",
       "      <td>blue</td>\n",
       "      <td>No Hair</td>\n",
       "      <td>0.593036</td>\n",
       "      <td>red</td>\n",
       "      <td>0.352966</td>\n",
       "      <td>2</td>\n",
       "      <td>2</td>\n",
       "      <td>1</td>\n",
       "      <td>...</td>\n",
       "      <td>False</td>\n",
       "      <td>False</td>\n",
       "      <td>False</td>\n",
       "      <td>True</td>\n",
       "      <td>False</td>\n",
       "      <td>False</td>\n",
       "      <td>False</td>\n",
       "      <td>False</td>\n",
       "      <td>False</td>\n",
       "      <td>False</td>\n",
       "    </tr>\n",
       "    <tr>\n",
       "      <th>3</th>\n",
       "      <td>3</td>\n",
       "      <td>Abomination</td>\n",
       "      <td>green</td>\n",
       "      <td>No Hair</td>\n",
       "      <td>0.722041</td>\n",
       "      <td>-</td>\n",
       "      <td>3.037800</td>\n",
       "      <td>2</td>\n",
       "      <td>1</td>\n",
       "      <td>11</td>\n",
       "      <td>...</td>\n",
       "      <td>False</td>\n",
       "      <td>False</td>\n",
       "      <td>False</td>\n",
       "      <td>False</td>\n",
       "      <td>False</td>\n",
       "      <td>False</td>\n",
       "      <td>False</td>\n",
       "      <td>False</td>\n",
       "      <td>False</td>\n",
       "      <td>False</td>\n",
       "    </tr>\n",
       "    <tr>\n",
       "      <th>4</th>\n",
       "      <td>4</td>\n",
       "      <td>Abraxas</td>\n",
       "      <td>blue</td>\n",
       "      <td>Black</td>\n",
       "      <td>-1.442378</td>\n",
       "      <td>-</td>\n",
       "      <td>-1.092714</td>\n",
       "      <td>2</td>\n",
       "      <td>1</td>\n",
       "      <td>11</td>\n",
       "      <td>...</td>\n",
       "      <td>False</td>\n",
       "      <td>False</td>\n",
       "      <td>False</td>\n",
       "      <td>False</td>\n",
       "      <td>False</td>\n",
       "      <td>False</td>\n",
       "      <td>False</td>\n",
       "      <td>False</td>\n",
       "      <td>False</td>\n",
       "      <td>False</td>\n",
       "    </tr>\n",
       "  </tbody>\n",
       "</table>\n",
       "<p>5 rows × 101 columns</p>\n",
       "</div>"
      ],
      "text/plain": [
       "   Unnamed: 0         name Eye color Hair color    Height Skin color  \\\n",
       "0           0       A-Bomb    yellow    No Hair  0.722041          -   \n",
       "1           1   Abe Sapien      blue    No Hair  0.636037       blue   \n",
       "2           2     Abin Sur      blue    No Hair  0.593036        red   \n",
       "3           3  Abomination     green    No Hair  0.722041          -   \n",
       "4           4      Abraxas      blue      Black -1.442378          -   \n",
       "\n",
       "     Weight  Gender_encoded  Alignment_encoded  Publisher_encoded  ...  \\\n",
       "0  3.037800               2                  2                 11  ...   \n",
       "1  0.161739               2                  2                  2  ...   \n",
       "2  0.352966               2                  2                  1  ...   \n",
       "3  3.037800               2                  1                 11  ...   \n",
       "4 -1.092714               2                  1                 11  ...   \n",
       "\n",
       "   Race_Symbiote  Race_Talokite  Race_Tamaranean  Race_Ungaran  Race_Vampire  \\\n",
       "0          False          False            False         False         False   \n",
       "1          False          False            False         False         False   \n",
       "2          False          False            False          True         False   \n",
       "3          False          False            False         False         False   \n",
       "4          False          False            False         False         False   \n",
       "\n",
       "   Race_Xenomorph XX121  Race_Yautja  Race_Yoda's species  Race_Zen-Whoberian  \\\n",
       "0                 False        False                False               False   \n",
       "1                 False        False                False               False   \n",
       "2                 False        False                False               False   \n",
       "3                 False        False                False               False   \n",
       "4                 False        False                False               False   \n",
       "\n",
       "   Race_Zombie  \n",
       "0        False  \n",
       "1        False  \n",
       "2        False  \n",
       "3        False  \n",
       "4        False  \n",
       "\n",
       "[5 rows x 101 columns]"
      ]
     },
     "execution_count": 42,
     "metadata": {},
     "output_type": "execute_result"
    }
   ],
   "source": [
    "heroes.head()"
   ]
  },
  {
   "cell_type": "code",
   "execution_count": 43,
   "id": "0e2430d4",
   "metadata": {},
   "outputs": [
    {
     "name": "stdout",
     "output_type": "stream",
     "text": [
      "Unnamed: 0              0\n",
      "name                    0\n",
      "Eye color               0\n",
      "Hair color              0\n",
      "Height                  0\n",
      "                       ..\n",
      "Race_Xenomorph XX121    0\n",
      "Race_Yautja             0\n",
      "Race_Yoda's species     0\n",
      "Race_Zen-Whoberian      0\n",
      "Race_Zombie             0\n",
      "Length: 101, dtype: int64\n"
     ]
    }
   ],
   "source": [
    "heroes.dropna(inplace=True)\n",
    "print(heroes.isnull().sum())"
   ]
  },
  {
   "cell_type": "code",
   "execution_count": 44,
   "id": "12160cd5",
   "metadata": {},
   "outputs": [
    {
     "data": {
      "text/plain": [
       "Index(['Unnamed: 0', 'name', 'Eye color', 'Hair color', 'Height', 'Skin color',\n",
       "       'Weight', 'Gender_encoded', 'Alignment_encoded', 'Publisher_encoded',\n",
       "       ...\n",
       "       'Race_Symbiote', 'Race_Talokite', 'Race_Tamaranean', 'Race_Ungaran',\n",
       "       'Race_Vampire', 'Race_Xenomorph XX121', 'Race_Yautja',\n",
       "       'Race_Yoda's species', 'Race_Zen-Whoberian', 'Race_Zombie'],\n",
       "      dtype='object', length=101)"
      ]
     },
     "execution_count": 44,
     "metadata": {},
     "output_type": "execute_result"
    }
   ],
   "source": [
    "heroes.columns"
   ]
  },
  {
   "cell_type": "code",
   "execution_count": 45,
   "id": "88f12292",
   "metadata": {},
   "outputs": [
    {
     "name": "stdout",
     "output_type": "stream",
     "text": [
      "Accuracy : 0.966\n",
      "Precision: 0.97\n",
      "Recall   : 0.98\n"
     ]
    }
   ],
   "source": [
    "from sklearn.model_selection import train_test_split\n",
    "from sklearn.impute import SimpleImputer\n",
    "from sklearn.preprocessing import StandardScaler\n",
    "from sklearn.compose import ColumnTransformer\n",
    "from sklearn.pipeline import Pipeline\n",
    "from sklearn.linear_model import LogisticRegression\n",
    "from sklearn.metrics import accuracy_score, precision_score, recall_score, f1_score, classification_report\n",
    "\n",
    "df = heroes.copy()\n",
    "df.columns = df.columns.str.strip()\n",
    "\n",
    "if \"Ali_good\" in df.columns:\n",
    "    y = df[\"Ali_good\"].astype(int)\n",
    "    leak_cols = [c for c in df.columns if c.startswith(\"Ali_\")]  # drop Ali_bad, Ali_neutral, Ali_good from X\n",
    "elif \"Alignment\" in df.columns:\n",
    "    y = df[\"Alignment\"].astype(str).str.lower().map({\"good\": 1}).fillna(0).astype(int)\n",
    "    leak_cols = [\"Alignment\"]\n",
    "else:\n",
    "    raise ValueError(\"Neither 'Ali_good' nor 'Alignment' found. Provide one of them to build the target.\")\n",
    "\n",
    "drop_exact = [c for c in [\"Unnamed: 0\",\"name\",\"Eye color\",\"Hair color\",\"Skin color\"] if c in df.columns]\n",
    "X = df.drop(columns=drop_exact + leak_cols, errors=\"ignore\")\n",
    "y = y.loc[X.index]\n",
    "\n",
    "strat = y if y.nunique() >= 2 else None\n",
    "X_train, X_test, y_train, y_test = train_test_split(\n",
    "    X, y, test_size=0.20, random_state=42, stratify=strat\n",
    ")\n",
    "\n",
    "num_cols   = [c for c in [\"Height\",\"Weight\"] if c in X.columns]\n",
    "other_cols = [c for c in X.columns if c not in num_cols]\n",
    "\n",
    "from sklearn.pipeline import Pipeline\n",
    "num_pipe = Pipeline([(\"impute\", SimpleImputer(strategy=\"median\")),\n",
    "                     (\"scale\",  StandardScaler())])\n",
    "other_pipe = Pipeline([(\"impute\", SimpleImputer(strategy=\"most_frequent\"))])\n",
    "\n",
    "preprocess = ColumnTransformer([\n",
    "    (\"num\",   num_pipe,   num_cols),\n",
    "    (\"other\", other_pipe, other_cols),\n",
    "], remainder=\"drop\")\n",
    "\n",
    "\n",
    "logreg = Pipeline([\n",
    "    (\"prep\", preprocess),\n",
    "    (\"clf\", LogisticRegression(max_iter=3000, class_weight=\"balanced\", solver=\"lbfgs\")),\n",
    "])\n",
    "\n",
    "logreg.fit(X_train, y_train)\n",
    "y_pred = logreg.predict(X_test)\n",
    "\n",
    "print(\"Accuracy :\", round(accuracy_score(y_test, y_pred), 3))\n",
    "print(\"Precision:\", round(precision_score(y_test, y_pred, zero_division=0), 3))\n",
    "print(\"Recall   :\", round(recall_score(y_test, y_pred, zero_division=0), 3))"
   ]
  },
  {
   "cell_type": "markdown",
   "id": "8b3bdbb0",
   "metadata": {},
   "source": [
    "### 6. Sonuçların Yorumlanması"
   ]
  },
  {
   "cell_type": "markdown",
   "id": "8549af6b",
   "metadata": {},
   "source": [
    "İlk olarak accuracy(doğruluk) değerine bakalım"
   ]
  },
  {
   "cell_type": "code",
   "execution_count": 46,
   "id": "6ee675d6",
   "metadata": {},
   "outputs": [
    {
     "data": {
      "text/plain": [
       "0.9659863945578231"
      ]
     },
     "execution_count": 46,
     "metadata": {},
     "output_type": "execute_result"
    }
   ],
   "source": [
    "accuracy = accuracy_score(y_test, y_pred)\n",
    "accuracy"
   ]
  },
  {
   "cell_type": "markdown",
   "id": "21f9a207",
   "metadata": {},
   "source": [
    "Doğruluk değeri %97 bu oldukça yüksek bir değer bundan dolayı overfitting olma ihtimalinden şüphelendim"
   ]
  },
  {
   "cell_type": "code",
   "execution_count": 47,
   "id": "e25d4150",
   "metadata": {},
   "outputs": [
    {
     "name": "stdout",
     "output_type": "stream",
     "text": [
      "Train Accuracy: 0.957\n",
      "Test  Accuracy: 0.966\n",
      "Train F1-score: 0.969\n",
      "Test  F1-score: 0.975\n"
     ]
    }
   ],
   "source": [
    "train_pred = logreg.predict(X_train)\n",
    "test_pred  = logreg.predict(X_test)\n",
    "\n",
    "train_acc = accuracy_score(y_train, train_pred)\n",
    "test_acc  = accuracy_score(y_test, test_pred)\n",
    "train_f1  = f1_score(y_train, train_pred)\n",
    "test_f1   = f1_score(y_test, test_pred)\n",
    "\n",
    "print(f\"Train Accuracy: {train_acc:.3f}\")\n",
    "print(f\"Test  Accuracy: {test_acc:.3f}\")\n",
    "print(f\"Train F1-score: {train_f1:.3f}\")\n",
    "print(f\"Test  F1-score: {test_f1:.3f}\")"
   ]
  },
  {
   "cell_type": "markdown",
   "id": "34503e60",
   "metadata": {},
   "source": [
    "Eğitim ve test skorları birbirine çok yakın olduğu için overfitting yoktur diyorum"
   ]
  },
  {
   "cell_type": "code",
   "execution_count": 48,
   "id": "0d5b5642",
   "metadata": {},
   "outputs": [
    {
     "name": "stdout",
     "output_type": "stream",
     "text": [
      "Ali_good\n",
      "1    99\n",
      "0    48\n",
      "Name: count, dtype: int64\n"
     ]
    }
   ],
   "source": [
    "print(y_test.value_counts())"
   ]
  },
  {
   "cell_type": "markdown",
   "id": "d7038075",
   "metadata": {},
   "source": [
    "Dağılım makuldür"
   ]
  },
  {
   "cell_type": "markdown",
   "id": "5f9fa2d3",
   "metadata": {},
   "source": [
    "Publisher \"DC\" veya \"Marvel\" olduğunda \"good\" olasılığı artıyor model bunu öğrenmiştir"
   ]
  },
  {
   "cell_type": "markdown",
   "id": "d5bc4a1d",
   "metadata": {},
   "source": [
    "\"Human\", \"Mutant\", \"Alien\" gibi türlerin kahramanlıkla ilişkisini anlamış olabilir"
   ]
  },
  {
   "cell_type": "markdown",
   "id": "b16668e8",
   "metadata": {},
   "source": [
    "Bu özellikler çok açık olduğu için logistic regresyonla model başarılı olmuştur"
   ]
  }
 ],
 "metadata": {
  "kernelspec": {
   "display_name": "base",
   "language": "python",
   "name": "python3"
  },
  "language_info": {
   "codemirror_mode": {
    "name": "ipython",
    "version": 3
   },
   "file_extension": ".py",
   "mimetype": "text/x-python",
   "name": "python",
   "nbconvert_exporter": "python",
   "pygments_lexer": "ipython3",
   "version": "3.12.7"
  }
 },
 "nbformat": 4,
 "nbformat_minor": 5
}
